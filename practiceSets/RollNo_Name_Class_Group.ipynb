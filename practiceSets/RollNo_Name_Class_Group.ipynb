{
 "cells": [
  {
   "cell_type": "markdown",
   "metadata": {},
   "source": [
    "Problem Statement: 1\n",
    "You work in XYZ Corporation as a Data Analyst. Your company has told you to work with the IfElse Conditions.\n",
    "Tasks to be performed:\n",
    "1. Input the values of a and b as 10 and 20 respectively. Now check if a is greater or b is greater\n",
    "using if condition. Think about all the edge cases, and print the statements accordingly."
   ]
  },
  {
   "cell_type": "code",
   "execution_count": null,
   "metadata": {},
   "outputs": [],
   "source": []
  },
  {
   "cell_type": "markdown",
   "metadata": {},
   "source": [
    "Problem Statement: 2 You work in XYZ Corporation as a Data Analyst. Your company has told you to work with the IfElse Conditions. Tasks to be performed:\n",
    "\n",
    "Take three user inputs and print the greatest number from those inputs using if-else condition. Edge cases if any, should also be handled."
   ]
  },
  {
   "cell_type": "code",
   "execution_count": null,
   "metadata": {},
   "outputs": [],
   "source": []
  },
  {
   "cell_type": "markdown",
   "metadata": {},
   "source": [
    "Problem Statement: 3 You work in XYZ Corporation as a Data Analyst. Your company has told you to work with the IfElse Conditions. Tasks to be performed:\n",
    "\n",
    "Print the numbers from 1 to 10 using while loop."
   ]
  },
  {
   "cell_type": "code",
   "execution_count": null,
   "metadata": {},
   "outputs": [],
   "source": []
  },
  {
   "cell_type": "markdown",
   "metadata": {},
   "source": [
    "Problem Statement: 4 You work in XYZ Corporation as a Data Analyst. Your company has told you to work with the IfElse Conditions. Tasks to be performed: Create a list that is having 10,23,4,26,4,75,24,54 values and with the help of while loop, fetch the even numbers and print the numbers."
   ]
  },
  {
   "cell_type": "code",
   "execution_count": null,
   "metadata": {},
   "outputs": [],
   "source": []
  },
  {
   "cell_type": "markdown",
   "metadata": {},
   "source": [
    "Problem Statement: 5\n",
    "Consider yourself to be Sam who is a data scientist. He has been invited as a guest lecturer at a college\n",
    "to take an introductory session on Python.\n",
    "Tasks to be performed:\n",
    "1. Create a list containing squares of numbers from 1 to 10 (HINT: use List Comprehension).\n",
    "2. Write a Function to check if year number is a leap year.\n",
    "3. Write a Function to take an array and return another array that contains the members of first\n",
    "array that are even.\n",
    "4. Write a Function that takes 2 arrays and prints the members of first array that are present of\n",
    "second array. (HINT: use Membership Comprehension)\n",
    "\n"
   ]
  },
  {
   "cell_type": "code",
   "execution_count": null,
   "metadata": {},
   "outputs": [],
   "source": []
  },
  {
   "cell_type": "code",
   "execution_count": null,
   "metadata": {},
   "outputs": [],
   "source": [
    "\n"
   ]
  },
  {
   "cell_type": "code",
   "execution_count": 2,
   "metadata": {},
   "outputs": [
    {
     "ename": "SyntaxError",
     "evalue": "invalid syntax (Temp/ipykernel_6132/531814179.py, line 1)",
     "output_type": "error",
     "traceback": [
      "\u001b[1;36m  File \u001b[1;32m\"C:\\Users\\Abhishek\\AppData\\Local\\Temp/ipykernel_6132/531814179.py\"\u001b[1;36m, line \u001b[1;32m1\u001b[0m\n\u001b[1;33m    Problem Statement: 6\u001b[0m\n\u001b[1;37m            ^\u001b[0m\n\u001b[1;31mSyntaxError\u001b[0m\u001b[1;31m:\u001b[0m invalid syntax\n"
     ]
    }
   ],
   "source": [
    "Problem Statement: 6\n",
    "Consider yourself to be Sam who is a data scientist. He has been invited as a guest lecturer at a college\n",
    "to take an introductory session on Python.\n",
    "Tasks to be performed:\n",
    "1. Create 1st tuple with values -> (10,20,30), 2nd tuple with values -> (40,50,60).\n",
    "a. Concatenate the two tuples and store it in “t_combine”\n",
    "b. Repeat the elements of “t_combine” 3 times\n",
    "c. Access the 3rd element from “t_combine”\n",
    "d. Access the first three elements from “t_combine”\n",
    "e. Access the last three elements from “t_combine”\n",
    "2. Create a list ‘my_list’ with these elements:\n",
    "a. First element is a tuple with values 1,2,3\n",
    "b. Second element is a tuple with values “a”,”b”,”c”\n",
    "c. Third element is a tuple with values True,False\n",
    "3. Append a new tuple – (1,’a’,True) to ‘my_list’\n",
    "a. Append a new list – *“sparta”,123+ to my_list\n",
    "4. Create a dictionary ‘fruit’ where:\n",
    "a. The first key is ‘Fruit’ and the values are (“Apple”,”Banana”,”Mango”,”Guava”)\n",
    "b. The second key is ‘Cost’ and the values are (85,54,120,70)\n",
    "c. Extract all the keys from ‘fruit’\n",
    "d. Extract all the values from ‘fruit’\n",
    "5. Crete a set named ‘my_set’ with values (1,1,”a”,”a”,True,True) and print the result"
   ]
  },
  {
   "cell_type": "code",
   "execution_count": 3,
   "metadata": {},
   "outputs": [],
   "source": [
    "#1. Create 1st tuple with values -> (10,20,30), 2nd tuple with values -> (40,50,60).\n",
    "\n",
    "\n"
   ]
  },
  {
   "cell_type": "code",
   "execution_count": 4,
   "metadata": {},
   "outputs": [],
   "source": [
    "#a. Concatenate the two tuples and store it in “t_combine”\n",
    "\n",
    "\n"
   ]
  },
  {
   "cell_type": "code",
   "execution_count": 5,
   "metadata": {},
   "outputs": [],
   "source": [
    "#b. Repeat the elements of “t_combine” 3 times\n",
    "\n",
    "\n"
   ]
  },
  {
   "cell_type": "code",
   "execution_count": 6,
   "metadata": {},
   "outputs": [],
   "source": [
    "#c. Access the 3rd element from “t_combine”\n",
    "\n",
    "\n"
   ]
  },
  {
   "cell_type": "code",
   "execution_count": 7,
   "metadata": {},
   "outputs": [],
   "source": [
    "#d. Access the first three elements from “t_combine”\n",
    "\n",
    "\n"
   ]
  },
  {
   "cell_type": "code",
   "execution_count": 8,
   "metadata": {},
   "outputs": [],
   "source": [
    "#e. Access the last three elements from “t_combine”\n",
    "\n",
    "\n"
   ]
  },
  {
   "cell_type": "code",
   "execution_count": 9,
   "metadata": {},
   "outputs": [],
   "source": [
    "#2. Create a list ‘my_list’ with these elements:\n",
    "\n",
    "\n"
   ]
  },
  {
   "cell_type": "code",
   "execution_count": 10,
   "metadata": {},
   "outputs": [],
   "source": [
    "#a. First element is a tuple with values 1,2,3\n",
    "\n",
    "\n"
   ]
  },
  {
   "cell_type": "code",
   "execution_count": 11,
   "metadata": {},
   "outputs": [],
   "source": [
    "#b. Second element is a tuple with values “a”,”b”,”c”\n",
    "\n",
    "\n"
   ]
  },
  {
   "cell_type": "code",
   "execution_count": 12,
   "metadata": {},
   "outputs": [],
   "source": [
    "#c. Third element is a tuple with values True,False\n",
    "\n",
    "\n"
   ]
  },
  {
   "cell_type": "code",
   "execution_count": 13,
   "metadata": {},
   "outputs": [],
   "source": [
    "#3. Append a new tuple – (1,’a’,True) to ‘my_list’\n",
    "\n",
    "\n"
   ]
  },
  {
   "cell_type": "code",
   "execution_count": 14,
   "metadata": {},
   "outputs": [],
   "source": [
    "#a. Append a new list – *“sparta”,123+ to my_list\n",
    "\n",
    "\n"
   ]
  },
  {
   "cell_type": "code",
   "execution_count": 15,
   "metadata": {},
   "outputs": [],
   "source": [
    "#4. Create a dictionary ‘fruit’ where:\n",
    "\n",
    "\n"
   ]
  },
  {
   "cell_type": "code",
   "execution_count": 16,
   "metadata": {},
   "outputs": [],
   "source": [
    "#a. The first key is ‘Fruit’ and the values are (“Apple”,”Banana”,”Mango”,”Guava”)\n",
    "\n",
    "\n"
   ]
  },
  {
   "cell_type": "code",
   "execution_count": 17,
   "metadata": {},
   "outputs": [],
   "source": [
    "#b. The second key is ‘Cost’ and the values are (85,54,120,70)\n",
    "\n",
    "\n"
   ]
  },
  {
   "cell_type": "code",
   "execution_count": 18,
   "metadata": {},
   "outputs": [],
   "source": [
    "#c. Extract all the keys from ‘fruit’\n",
    "\n",
    "\n"
   ]
  },
  {
   "cell_type": "code",
   "execution_count": 19,
   "metadata": {},
   "outputs": [],
   "source": [
    "#d. Extract all the values from ‘fruit’\n",
    "\n",
    "\n"
   ]
  },
  {
   "cell_type": "code",
   "execution_count": 20,
   "metadata": {},
   "outputs": [],
   "source": [
    "#5. Crete a set named ‘my_set’ with values (1,1,”a”,”a”,True,True) and print the result\n",
    "\n",
    "\n"
   ]
  },
  {
   "cell_type": "markdown",
   "metadata": {},
   "source": [
    "Problem Statement: 7\n",
    "\n",
    "L is a list defined as L= [11, 12, 13, 14].\n",
    "(i)\t    WAP to add 50 and 60 to L. \n",
    "(ii)\tWAP to remove 11 and 13from L.\n",
    "(iii)\tWAP to sort L in ascending order.\n",
    "(iv)\tWAP to sort L in descending order.\n",
    "(v)\t    WAP to search for 13 in L.\n",
    "(vi)\tWAP to count the number of elements present in L.\n",
    "(vii)\tWAP to sum all the elements in L.\n",
    "(viii)\tWAP to sum all ODD numbers in L.\n",
    "(ix)\tWAP to sum all EVEN numbers in L.\n",
    "(x)\t    WAP to sum all PRIME numbers in L.\n",
    "(xi)\tWAP to clear all the elements in L.\n",
    "(xii)\tWAP to delete L.\n"
   ]
  },
  {
   "cell_type": "code",
   "execution_count": 21,
   "metadata": {},
   "outputs": [],
   "source": [
    "#(i)\t    WAP to add 50 and 60 to L. \n",
    "\n",
    "\n"
   ]
  },
  {
   "cell_type": "code",
   "execution_count": 22,
   "metadata": {},
   "outputs": [],
   "source": [
    "#(ii)\tWAP to remove 11 and 13from L.\n",
    "\n",
    "\n"
   ]
  },
  {
   "cell_type": "code",
   "execution_count": 23,
   "metadata": {},
   "outputs": [],
   "source": [
    "#(iii)\tWAP to sort L in ascending order.\n",
    "\n",
    "\n"
   ]
  },
  {
   "cell_type": "code",
   "execution_count": 24,
   "metadata": {},
   "outputs": [],
   "source": [
    "#(iv)\tWAP to sort L in descending order.\n",
    "\n",
    "\n"
   ]
  },
  {
   "cell_type": "code",
   "execution_count": 25,
   "metadata": {},
   "outputs": [],
   "source": [
    "#(v)\t    WAP to search for 13 in L.\n",
    "\n",
    "\n"
   ]
  },
  {
   "cell_type": "code",
   "execution_count": 26,
   "metadata": {},
   "outputs": [],
   "source": [
    "#(vi)\tWAP to count the number of elements present in L.\n",
    "\n",
    "\n"
   ]
  },
  {
   "cell_type": "code",
   "execution_count": 27,
   "metadata": {},
   "outputs": [],
   "source": [
    "#(vii)\tWAP to sum all the elements in L.\n",
    "\n",
    "\n"
   ]
  },
  {
   "cell_type": "code",
   "execution_count": 28,
   "metadata": {},
   "outputs": [],
   "source": [
    "#(viii)\tWAP to sum all ODD numbers in L.\n",
    "\n",
    "\n"
   ]
  },
  {
   "cell_type": "code",
   "execution_count": 29,
   "metadata": {},
   "outputs": [],
   "source": [
    "#(ix)\tWAP to sum all EVEN numbers in L.\n",
    "\n",
    "\n"
   ]
  },
  {
   "cell_type": "code",
   "execution_count": 30,
   "metadata": {},
   "outputs": [],
   "source": [
    "#(x)\t    WAP to sum all PRIME numbers in L.\n",
    "\n",
    "\n"
   ]
  },
  {
   "cell_type": "code",
   "execution_count": 31,
   "metadata": {},
   "outputs": [],
   "source": [
    "#(xi)\tWAP to clear all the elements in L.\n",
    "\n",
    "\n"
   ]
  },
  {
   "cell_type": "code",
   "execution_count": 32,
   "metadata": {},
   "outputs": [],
   "source": [
    "#(xii)\tWAP to delete L.\n",
    "\n"
   ]
  },
  {
   "cell_type": "markdown",
   "metadata": {},
   "source": [
    "Problem Statement: 8\n",
    "\n",
    "D is a dictionary defined as D= {1:5.6, 2:7.8, 3:6.6, 4:8.7, 5:7.7}.\n",
    "(i)\tWAP to add new entry in D; key=8 and value is 8.8\n",
    "(ii)\tWAP to remove key=2.\n",
    "(iii)\tWAP to check weather 6 key is present in D.\n",
    "(iv)\tWAP to count the number of elements present in D.\n",
    "(v)\tWAP to add all the values present D.\n",
    "(vi)\tWAP to update the value of 3 to 7.1.\n",
    "(vii)\tWAP to clear the dictionary.\n"
   ]
  },
  {
   "cell_type": "code",
   "execution_count": 33,
   "metadata": {},
   "outputs": [],
   "source": [
    "#(i)\tWAP to add new entry in D; key=8 and value is 8.8\n",
    "\n",
    "\n"
   ]
  },
  {
   "cell_type": "code",
   "execution_count": 34,
   "metadata": {},
   "outputs": [],
   "source": [
    "#(ii)\tWAP to remove key=2.\n",
    "\n",
    "\n"
   ]
  },
  {
   "cell_type": "code",
   "execution_count": 35,
   "metadata": {},
   "outputs": [],
   "source": [
    "#(iii)\tWAP to check weather 6 key is present in D.\n",
    "\n",
    "\n"
   ]
  },
  {
   "cell_type": "code",
   "execution_count": 36,
   "metadata": {},
   "outputs": [],
   "source": [
    "#(iv)\tWAP to count the number of elements present in D.\n",
    "\n",
    "\n"
   ]
  },
  {
   "cell_type": "code",
   "execution_count": 37,
   "metadata": {},
   "outputs": [],
   "source": [
    "#(v)\tWAP to add all the values present D.\n",
    "\n",
    "\n"
   ]
  },
  {
   "cell_type": "code",
   "execution_count": 38,
   "metadata": {},
   "outputs": [],
   "source": [
    "#(vi)\tWAP to update the value of 3 to 7.1.\n",
    "\n",
    "\n"
   ]
  },
  {
   "cell_type": "code",
   "execution_count": 41,
   "metadata": {},
   "outputs": [],
   "source": [
    "# (vii)\tWAP to clear the dictionary.\n",
    "\n"
   ]
  },
  {
   "cell_type": "markdown",
   "metadata": {},
   "source": [
    "Problem Statement: 9\n",
    "\n",
    "S1 is a set defined as S1= [10, 20, 30, 40, 50, 60].\n",
    "    S2 is a set defined as S2= [40, 50, 60, 70, 80, 90].\n",
    "(i)\t    WAP to add 55 and 66 in Set S1.\n",
    "(ii)\tWAP to remove 10 and 30 from Set S1.\n",
    "(iii)\tWAP to check whether 40 is present in S1.\n",
    "(iv)\tWAP to find the union between S1 and S2.\n",
    "(v)\t    WAP to find the intersection between S1 and S2.\n",
    "(vi)\tWAP to find the S1 - S2.\n"
   ]
  },
  {
   "cell_type": "code",
   "execution_count": 42,
   "metadata": {},
   "outputs": [],
   "source": [
    "#    S1 is a set defined as S1= [10, 20, 30, 40, 50, 60].\n",
    "#    S2 is a set defined as S2= [40, 50, 60, 70, 80, 90].\n",
    "\n",
    "\n"
   ]
  },
  {
   "cell_type": "code",
   "execution_count": 43,
   "metadata": {},
   "outputs": [],
   "source": [
    "# (i)\t    WAP to add 55 and 66 in Set S1.\n",
    "\n",
    "\n"
   ]
  },
  {
   "cell_type": "code",
   "execution_count": 44,
   "metadata": {},
   "outputs": [],
   "source": [
    "# (ii)\tWAP to remove 10 and 30 from Set S1.\n",
    "\n",
    "\n"
   ]
  },
  {
   "cell_type": "code",
   "execution_count": 45,
   "metadata": {},
   "outputs": [],
   "source": [
    "# (iii)\tWAP to check whether 40 is present in S1.\n",
    "\n",
    "\n"
   ]
  },
  {
   "cell_type": "code",
   "execution_count": 46,
   "metadata": {},
   "outputs": [],
   "source": [
    "# (iv)\tWAP to find the union between S1 and S2.\n",
    "\n",
    "\n"
   ]
  },
  {
   "cell_type": "code",
   "execution_count": 47,
   "metadata": {},
   "outputs": [],
   "source": [
    "# (v)\t    WAP to find the intersection between S1 and S2.\n",
    "\n",
    "\n"
   ]
  },
  {
   "cell_type": "code",
   "execution_count": 48,
   "metadata": {},
   "outputs": [],
   "source": [
    "# (vi)\tWAP to find the S1 - S2.\n",
    "\n"
   ]
  },
  {
   "cell_type": "markdown",
   "metadata": {},
   "source": [
    "Problem Statement: 10\n",
    "\n",
    "Write the following program.\n",
    "(i)\t    WAP to print 100 random strings whose length between 6 and 8.\n",
    "(ii)\tWAP to print all prime numbers between 600 and 800.\n",
    "(iii)\tWAP to print all numbers between 100 and 1000 that are divisible by 7 and 9.\n",
    "\n"
   ]
  },
  {
   "cell_type": "code",
   "execution_count": 49,
   "metadata": {},
   "outputs": [],
   "source": [
    "# (i)\t    WAP to print 100 random strings whose length between 6 and 8.\n",
    "\n",
    "\n"
   ]
  },
  {
   "cell_type": "code",
   "execution_count": 50,
   "metadata": {},
   "outputs": [],
   "source": [
    "# (ii)\tWAP to print all prime numbers between 600 and 800.\n",
    "\n",
    "\n"
   ]
  },
  {
   "cell_type": "code",
   "execution_count": 51,
   "metadata": {},
   "outputs": [],
   "source": [
    "# (iii)\tWAP to print all numbers between 100 and 1000 that are divisible by 7 and 9.\n",
    "\n"
   ]
  },
  {
   "cell_type": "markdown",
   "metadata": {},
   "source": [
    "Problem Statement: 11\n",
    "\n",
    "WAP to create two lists of 10 random numbers between 10 and 30; Find \n",
    "(i)\t    Common numbers in the two lists\n",
    "(ii)\tUnique numbers in both the list\n",
    "(iii)\tMinimum in both the list\n",
    "(iv)\tMaximum in both the list\n",
    "(v)\t    Sum of both the lists\n"
   ]
  },
  {
   "cell_type": "code",
   "execution_count": 52,
   "metadata": {},
   "outputs": [],
   "source": [
    "# (i)\t    Common numbers in the two lists\n",
    "\n",
    "\n"
   ]
  },
  {
   "cell_type": "code",
   "execution_count": 53,
   "metadata": {},
   "outputs": [],
   "source": [
    "# (ii)\tUnique numbers in both the list\n",
    "\n",
    "\n"
   ]
  },
  {
   "cell_type": "code",
   "execution_count": 54,
   "metadata": {},
   "outputs": [],
   "source": [
    "# (iii)\tMinimum in both the list\n",
    "\n",
    "\n"
   ]
  },
  {
   "cell_type": "code",
   "execution_count": 55,
   "metadata": {},
   "outputs": [],
   "source": [
    "# (iv)\tMaximum in both the list\n",
    "\n",
    "\n"
   ]
  },
  {
   "cell_type": "code",
   "execution_count": 56,
   "metadata": {},
   "outputs": [],
   "source": [
    "# (v)\t    Sum of both the lists\n",
    "\n"
   ]
  },
  {
   "cell_type": "markdown",
   "metadata": {},
   "source": [
    "Problem Statement: 12\n",
    "\n",
    "WAP to create a list of 100 random numbers between 100 and 900. Count and print the: \n",
    "(i)\tAll odd numbers\n",
    "(ii)\tAll even numbers\n",
    "(iii)\tAll prime numbers\n"
   ]
  },
  {
   "cell_type": "code",
   "execution_count": 57,
   "metadata": {},
   "outputs": [],
   "source": [
    "# WAP to create a list of 100 random numbers between 100 and 900. \n",
    "\n"
   ]
  },
  {
   "cell_type": "code",
   "execution_count": 58,
   "metadata": {},
   "outputs": [],
   "source": [
    "# Count and print the (i)\tAll odd numbers\n",
    "\n",
    "\n"
   ]
  },
  {
   "cell_type": "code",
   "execution_count": 59,
   "metadata": {},
   "outputs": [],
   "source": [
    "# Count and print the (ii)\tAll even numbers\n",
    "\n",
    "\n"
   ]
  },
  {
   "cell_type": "code",
   "execution_count": 60,
   "metadata": {},
   "outputs": [],
   "source": [
    "# Count and print the (iii)\tAll prime numbers\n",
    "\n"
   ]
  },
  {
   "cell_type": "markdown",
   "metadata": {},
   "source": [
    "Problem Statement: 13\n",
    "\n",
    "D is a dictionary defined as D={1:\"One\",2:\"Two\",3:\"Three\",4:\"Four\", 5:\"Five\"}. \n",
    "WAP to read all the keys and values from dictionary and write to the file in the given below format.\n",
    "\t\n",
    "    Key1, Value1\n",
    "\tKey2, Value2\n",
    "\tKey3, Value3\n"
   ]
  },
  {
   "cell_type": "code",
   "execution_count": null,
   "metadata": {},
   "outputs": [],
   "source": []
  },
  {
   "cell_type": "markdown",
   "metadata": {},
   "source": [
    "Problem Statement: 14\n",
    "\n",
    "L is a list defined as L={\"One\",\"Two\",\"Three\",\"Four\",\"Five\"}.\n",
    "WAP to count the length of reach element from a list and write to the file in the given below format:\n",
    "\tOne, 3\n",
    "\tTwo, 3\n",
    "\tFour, 4\n"
   ]
  },
  {
   "cell_type": "code",
   "execution_count": null,
   "metadata": {},
   "outputs": [],
   "source": []
  },
  {
   "cell_type": "markdown",
   "metadata": {},
   "source": [
    "Problem Statement: 15\n",
    "\n",
    "Write to the file 100 random strings whose length between 10 and 15."
   ]
  },
  {
   "cell_type": "code",
   "execution_count": null,
   "metadata": {},
   "outputs": [],
   "source": []
  },
  {
   "cell_type": "markdown",
   "metadata": {},
   "source": [
    "Problem Statement: 16\n",
    "\n",
    "Write to the file all prime numbers between 600 and 800."
   ]
  },
  {
   "cell_type": "code",
   "execution_count": null,
   "metadata": {},
   "outputs": [],
   "source": []
  },
  {
   "cell_type": "markdown",
   "metadata": {},
   "source": [
    "Problem Statement: 17\n",
    "\n",
    "WAP to calculate the time taken by a program."
   ]
  },
  {
   "cell_type": "code",
   "execution_count": null,
   "metadata": {},
   "outputs": [],
   "source": []
  },
  {
   "cell_type": "markdown",
   "metadata": {},
   "source": [
    "Problem Statement: 18\n",
    "\n",
    "WAP to sort following number of elements in a list, calculate time taken and plot the graph.   \n",
    "\n",
    "Number of elements in list\t    Time Taken\n",
    "            50k                     T1\n",
    "            100k\t                T2\n",
    "            150k\t                T3\n",
    "            200k\t                T4\n",
    "            250k\t                T5"
   ]
  },
  {
   "cell_type": "code",
   "execution_count": null,
   "metadata": {},
   "outputs": [],
   "source": []
  },
  {
   "cell_type": "markdown",
   "metadata": {},
   "source": [
    "Problem Statement: 19\n",
    "\n",
    "WAP to create a dictionary of student marks in five subjects and you have to find the student \n",
    "         having maximum and minimum average marks.\n"
   ]
  },
  {
   "cell_type": "code",
   "execution_count": null,
   "metadata": {},
   "outputs": [],
   "source": []
  }
 ],
 "metadata": {
  "kernelspec": {
   "display_name": "Python 3.8.6 32-bit",
   "language": "python",
   "name": "python3"
  },
  "language_info": {
   "codemirror_mode": {
    "name": "ipython",
    "version": 3
   },
   "file_extension": ".py",
   "mimetype": "text/x-python",
   "name": "python",
   "nbconvert_exporter": "python",
   "pygments_lexer": "ipython3",
   "version": "3.8.6"
  },
  "vscode": {
   "interpreter": {
    "hash": "939480ed579cbcc9bd95c0bb2f0a271d068ec362d36f1415ed941c7dadb52340"
   }
  }
 },
 "nbformat": 4,
 "nbformat_minor": 2
}
